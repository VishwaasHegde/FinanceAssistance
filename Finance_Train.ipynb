{
 "cells": [
  {
   "cell_type": "code",
   "execution_count": 1,
   "id": "2d3fc6de-24dd-463b-845e-30d43064dfc4",
   "metadata": {},
   "outputs": [
    {
     "name": "stderr",
     "output_type": "stream",
     "text": [
      "/opt/anaconda3/envs/env_1/lib/python3.10/site-packages/sentence_transformers/cross_encoder/CrossEncoder.py:13: TqdmExperimentalWarning: Using `tqdm.autonotebook.tqdm` in notebook mode. Use `tqdm.tqdm` instead to force console mode (e.g. in jupyter console)\n",
      "  from tqdm.autonotebook import tqdm, trange\n",
      "2024-11-24 17:38:23.231133: I tensorflow/core/platform/cpu_feature_guard.cc:210] This TensorFlow binary is optimized to use available CPU instructions in performance-critical operations.\n",
      "To enable the following instructions: AVX2 FMA, in other operations, rebuild TensorFlow with the appropriate compiler flags.\n"
     ]
    }
   ],
   "source": [
    "import pandas as pd\n",
    "# import yfinance as yf\n",
    "from qdrant_client import QdrantClient\n",
    "from qdrant_client.http.models import VectorParams\n",
    "from sentence_transformers import SentenceTransformer\n",
    "from llama_index.embeddings.huggingface import HuggingFaceEmbedding\n",
    "import uuid\n",
    "import json\n",
    "import os\n",
    "import datetime\n",
    "from tqdm import tqdm\n",
    "from llama_index.core import Settings\n",
    "from llama_index.vector_stores.qdrant import QdrantVectorStore\n",
    "from llama_index.core import VectorStoreIndex, Document, StorageContext\n",
    "import torch\n",
    "from llama_index.llms.ollama import Ollama\n",
    "from pydantic import BaseModel\n",
    "from llama_index.core.node_parser import SentenceSplitter\n",
    "from datasets import load_dataset\n",
    "from IPython.display import display, HTML"
   ]
  },
  {
   "cell_type": "code",
   "execution_count": 49,
   "id": "660a20d2-a3d9-4e54-87ee-99e7033d67aa",
   "metadata": {
    "scrolled": true
   },
   "outputs": [
    {
     "name": "stderr",
     "output_type": "stream",
     "text": [
      "huggingface/tokenizers: The current process just got forked, after parallelism has already been used. Disabling parallelism to avoid deadlocks...\n",
      "To disable this warning, you can either:\n",
      "\t- Avoid using `tokenizers` before the fork if possible\n",
      "\t- Explicitly set the environment variable TOKENIZERS_PARALLELISM=(true | false)\n"
     ]
    },
    {
     "name": "stdout",
     "output_type": "stream",
     "text": [
      "Package                                 Version\n",
      "--------------------------------------- ------------------\n",
      "absl-py                                 2.1.0\n",
      "aiobotocore                             2.13.3\n",
      "aiohappyeyeballs                        2.4.0\n",
      "aiohttp                                 3.10.5\n",
      "aioitertools                            0.7.1\n",
      "aiosignal                               1.2.0\n",
      "alabaster                               0.7.16\n",
      "altair                                  5.0.1\n",
      "annotated-types                         0.7.0\n",
      "anyio                                   4.2.0\n",
      "appdirs                                 1.4.4\n",
      "applaunchservices                       0.3.0\n",
      "appnope                                 0.1.2\n",
      "appscript                               1.2.5\n",
      "argon2-cffi                             21.3.0\n",
      "argon2-cffi-bindings                    21.2.0\n",
      "arrow                                   1.2.3\n",
      "astroid                                 2.14.2\n",
      "astropy                                 6.1.3\n",
      "astropy-iers-data                       0.2024.9.2.0.33.23\n",
      "asttokens                               2.0.5\n",
      "astunparse                              1.6.3\n",
      "async-lru                               2.0.4\n",
      "async-timeout                           4.0.3\n",
      "atomicwrites                            1.4.0\n",
      "attrs                                   23.1.0\n",
      "Automat                                 20.2.0\n",
      "autopep8                                2.0.4\n",
      "Babel                                   2.11.0\n",
      "bcrypt                                  3.2.0\n",
      "beautifulsoup4                          4.12.3\n",
      "binaryornot                             0.4.4\n",
      "black                                   24.8.0\n",
      "bleach                                  4.1.0\n",
      "blinker                                 1.6.2\n",
      "blis                                    1.0.1\n",
      "bokeh                                   3.6.0\n",
      "boto3                                   1.34.162\n",
      "botocore                                1.34.162\n",
      "Bottleneck                              1.3.7\n",
      "Brotli                                  1.0.9\n",
      "cachetools                              5.3.3\n",
      "catalogue                               2.0.10\n",
      "certifi                                 2024.8.30\n",
      "cffi                                    1.17.1\n",
      "chardet                                 4.0.0\n",
      "charset-normalizer                      3.3.2\n",
      "click                                   8.1.7\n",
      "cloudpathlib                            0.20.0\n",
      "cloudpickle                             3.0.0\n",
      "colorama                                0.4.6\n",
      "colorcet                                3.1.0\n",
      "comm                                    0.2.1\n",
      "confection                              0.1.5\n",
      "constantly                              23.10.4\n",
      "contourpy                               1.2.0\n",
      "cookiecutter                            2.6.0\n",
      "cryptography                            43.0.0\n",
      "cssselect                               1.2.0\n",
      "cycler                                  0.11.0\n",
      "cymem                                   2.0.8\n",
      "cytoolz                                 0.12.2\n",
      "dask                                    2024.8.2\n",
      "dask-expr                               1.1.13\n",
      "dataclasses-json                        0.6.7\n",
      "datasets                                3.0.1\n",
      "datashader                              0.16.3\n",
      "datatrove                               0.3.0\n",
      "debugpy                                 1.6.7\n",
      "decorator                               5.1.1\n",
      "defusedxml                              0.7.1\n",
      "Deprecated                              1.2.14\n",
      "diff-match-patch                        20200713\n",
      "dill                                    0.3.8\n",
      "dirtyjson                               1.0.8\n",
      "distributed                             2024.8.2\n",
      "distro                                  1.9.0\n",
      "dnspython                               2.7.0\n",
      "docstring-to-markdown                   0.11\n",
      "docutils                                0.18.1\n",
      "dynaconf                                3.2.6\n",
      "email_validator                         2.2.0\n",
      "en_core_web_sm                          3.8.0\n",
      "et-xmlfile                              1.1.0\n",
      "exceptiongroup                          1.2.0\n",
      "executing                               0.8.3\n",
      "fastapi                                 0.111.1\n",
      "fastapi-cli                             0.0.5\n",
      "fastapi-utils                           0.7.0\n",
      "fastjsonschema                          2.16.2\n",
      "filelock                                3.13.1\n",
      "filetype                                1.2.0\n",
      "flake8                                  7.0.0\n",
      "Flask                                   3.0.3\n",
      "flatbuffers                             24.3.25\n",
      "fonttools                               4.51.0\n",
      "fqdn                                    1.5.1\n",
      "frozendict                              2.4.6\n",
      "frozenlist                              1.4.0\n",
      "fsspec                                  2024.6.1\n",
      "gast                                    0.6.0\n",
      "gensim                                  4.3.3\n",
      "gitdb                                   4.0.7\n",
      "GitPython                               3.1.43\n",
      "gmpy2                                   2.1.2\n",
      "google-pasta                            0.2.0\n",
      "greenlet                                3.0.1\n",
      "grpcio                                  1.67.0\n",
      "grpcio-tools                            1.67.0\n",
      "h11                                     0.14.0\n",
      "h2                                      4.1.0\n",
      "h5py                                    3.11.0\n",
      "HeapDict                                1.0.1\n",
      "hjson                                   3.1.0\n",
      "holoviews                               1.19.1\n",
      "hpack                                   4.0.0\n",
      "html5lib                                1.1\n",
      "httpcore                                1.0.2\n",
      "httptools                               0.6.4\n",
      "httpx                                   0.27.0\n",
      "huggingface-hub                         0.25.2\n",
      "humanize                                4.11.0\n",
      "hvplot                                  0.11.0\n",
      "hyperframe                              6.0.1\n",
      "hyperlink                               21.0.0\n",
      "idna                                    3.7\n",
      "imagecodecs                             2023.1.23\n",
      "imageio                                 2.33.1\n",
      "imagesize                               1.4.1\n",
      "imbalanced-learn                        0.12.3\n",
      "importlib-metadata                      7.0.1\n",
      "incremental                             22.10.0\n",
      "inflection                              0.5.1\n",
      "iniconfig                               1.1.1\n",
      "intake                                  2.0.7\n",
      "intervaltree                            3.1.0\n",
      "ipykernel                               6.28.0\n",
      "ipython                                 8.27.0\n",
      "ipython-genutils                        0.2.0\n",
      "ipywidgets                              7.8.1\n",
      "isoduration                             20.11.0\n",
      "isort                                   5.13.2\n",
      "itemadapter                             0.3.0\n",
      "itemloaders                             1.1.0\n",
      "itsdangerous                            2.2.0\n",
      "jaraco.classes                          3.2.1\n",
      "jedi                                    0.19.1\n",
      "jellyfish                               1.0.1\n",
      "Jinja2                                  3.1.4\n",
      "jiter                                   0.7.1\n",
      "jmespath                                1.0.1\n",
      "joblib                                  1.4.2\n",
      "json5                                   0.9.6\n",
      "jsonpointer                             3.0.0\n",
      "jsonschema                              4.23.0\n",
      "jsonschema-specifications               2023.7.1\n",
      "jupyter                                 1.0.0\n",
      "jupyter_client                          8.6.0\n",
      "jupyter-console                         6.6.3\n",
      "jupyter_core                            5.7.2\n",
      "jupyter-events                          0.10.0\n",
      "jupyter-lsp                             2.2.0\n",
      "jupyter_server                          2.14.1\n",
      "jupyter_server_terminals                0.4.4\n",
      "jupyterlab                              4.2.5\n",
      "jupyterlab-pygments                     0.1.2\n",
      "jupyterlab_server                       2.27.3\n",
      "jupyterlab-widgets                      1.0.0\n",
      "keras                                   3.6.0\n",
      "keyring                                 24.3.1\n",
      "kiwisolver                              1.4.4\n",
      "langcodes                               3.4.1\n",
      "language_data                           1.2.0\n",
      "lazy_loader                             0.4\n",
      "lazy-object-proxy                       1.10.0\n",
      "lckr_jupyterlab_variableinspector       3.1.0\n",
      "libclang                                18.1.1\n",
      "linkify-it-py                           2.0.0\n",
      "llama-cloud                             0.1.5\n",
      "llama-index                             0.12.1\n",
      "llama-index-agent-openai                0.4.0\n",
      "llama-index-cli                         0.4.0\n",
      "llama-index-core                        0.10.68.post1\n",
      "llama-index-embeddings-huggingface      0.2.2\n",
      "llama-index-embeddings-openai           0.3.0\n",
      "llama-index-indices-managed-llama-cloud 0.6.2\n",
      "llama-index-legacy                      0.9.48.post4\n",
      "llama-index-llms-ollama                 0.1.5\n",
      "llama-index-llms-openai                 0.3.1\n",
      "llama-index-multi-modal-llms-openai     0.3.0\n",
      "llama-index-program-openai              0.3.0\n",
      "llama-index-question-gen-openai         0.3.0\n",
      "llama-index-readers-file                0.1.33\n",
      "llama-index-readers-llama-parse         0.4.0\n",
      "llama-index-vector-stores-qdrant        0.2.10\n",
      "llama-parse                             0.5.15\n",
      "llvmlite                                0.43.0\n",
      "lmdb                                    1.4.1\n",
      "locket                                  1.0.0\n",
      "loguru                                  0.7.2\n",
      "lxml                                    5.2.1\n",
      "lz4                                     4.3.2\n",
      "marisa-trie                             1.2.1\n",
      "Markdown                                3.4.1\n",
      "markdown-it-py                          2.2.0\n",
      "MarkupSafe                              2.1.3\n",
      "marshmallow                             3.22.0\n",
      "matplotlib                              3.9.2\n",
      "matplotlib-inline                       0.1.6\n",
      "mccabe                                  0.7.0\n",
      "mdit-py-plugins                         0.3.0\n",
      "mdurl                                   0.1.0\n",
      "minijinja                               2.2.0\n",
      "mistune                                 2.0.4\n",
      "ml-dtypes                               0.3.2\n",
      "more-itertools                          10.3.0\n",
      "mpmath                                  1.3.0\n",
      "msgpack                                 1.0.3\n",
      "multidict                               6.0.4\n",
      "multipledispatch                        0.6.0\n",
      "multiprocess                            0.70.16\n",
      "multitasking                            0.0.11\n",
      "murmurhash                              1.0.10\n",
      "mypy                                    1.11.2\n",
      "mypy-extensions                         1.0.0\n",
      "namex                                   0.0.8\n",
      "nanopq                                  0.2.1\n",
      "nbclient                                0.8.0\n",
      "nbconvert                               7.16.4\n",
      "nbformat                                5.10.4\n",
      "nest-asyncio                            1.6.0\n",
      "networkx                                3.3\n",
      "nltk                                    3.9.1\n",
      "notebook                                7.2.2\n",
      "notebook_shim                           0.2.3\n",
      "numba                                   0.60.0\n",
      "numexpr                                 2.8.7\n",
      "numpy                                   1.26.4\n",
      "numpydoc                                1.7.0\n",
      "ollama                                  0.3.3\n",
      "openai                                  1.55.0\n",
      "openpyxl                                3.1.5\n",
      "opt_einsum                              3.4.0\n",
      "optree                                  0.13.0\n",
      "orjson                                  3.10.7\n",
      "overrides                               7.4.0\n",
      "packaging                               24.1\n",
      "pandas                                  2.2.2\n",
      "pandocfilters                           1.5.0\n",
      "panel                                   1.5.2\n",
      "param                                   2.1.1\n",
      "parsel                                  1.8.1\n",
      "parso                                   0.8.3\n",
      "partd                                   1.4.1\n",
      "pathspec                                0.10.3\n",
      "patsy                                   0.5.6\n",
      "peewee                                  3.17.8\n",
      "pexpect                                 4.8.0\n",
      "pickleshare                             0.7.5\n",
      "pillow                                  10.4.0\n",
      "pip                                     24.2\n",
      "platformdirs                            3.10.0\n",
      "plotly                                  5.24.1\n",
      "pluggy                                  1.0.0\n",
      "ply                                     3.11\n",
      "portalocker                             2.10.1\n",
      "preshed                                 3.0.9\n",
      "prometheus-client                       0.14.1\n",
      "prompt-toolkit                          3.0.43\n",
      "Protego                                 0.1.16\n",
      "protobuf                                5.28.3\n",
      "psutil                                  5.9.0\n",
      "ptyprocess                              0.7.0\n",
      "pure-eval                               0.2.2\n",
      "py-cpuinfo                              9.0.0\n",
      "pyarrow                                 16.1.0\n",
      "pyasn1                                  0.4.8\n",
      "pyasn1-modules                          0.2.8\n",
      "pycodestyle                             2.11.1\n",
      "pycparser                               2.21\n",
      "pyct                                    0.5.0\n",
      "pycurl                                  7.45.3\n",
      "pydantic                                2.8.2\n",
      "pydantic_core                           2.20.1\n",
      "pydeck                                  0.8.0\n",
      "PyDispatcher                            2.0.5\n",
      "pydocstyle                              6.3.0\n",
      "pyerfa                                  2.0.1.4\n",
      "pyflakes                                3.2.0\n",
      "Pygments                                2.15.1\n",
      "pylint                                  2.16.2\n",
      "pylint-venv                             3.0.3\n",
      "pyls-spyder                             0.4.0\n",
      "pyobjc-core                             10.1\n",
      "pyobjc-framework-Cocoa                  10.1\n",
      "pyobjc-framework-CoreServices           10.1\n",
      "pyobjc-framework-FSEvents               10.1\n",
      "pyodbc                                  5.1.0\n",
      "pyOpenSSL                               24.2.1\n",
      "pyparsing                               3.1.2\n",
      "pypdf                                   4.3.1\n",
      "PyQt5                                   5.15.10\n",
      "PyQt5-sip                               12.13.0\n",
      "PyQtWebEngine                           5.15.6\n",
      "PySocks                                 1.7.1\n",
      "pytest                                  7.4.4\n",
      "python-dateutil                         2.9.0.post0\n",
      "python-dotenv                           1.0.1\n",
      "python-json-logger                      2.0.7\n",
      "python-lsp-black                        2.0.0\n",
      "python-lsp-jsonrpc                      1.1.2\n",
      "python-lsp-server                       1.10.0\n",
      "python-multipart                        0.0.12\n",
      "python-slugify                          5.0.2\n",
      "pytoolconfig                            1.2.6\n",
      "pytz                                    2024.1\n",
      "pyviz_comms                             3.0.2\n",
      "PyWavelets                              1.7.0\n",
      "PyYAML                                  6.0.1\n",
      "pyzmq                                   25.1.2\n",
      "QDarkStyle                              3.2.3\n",
      "qdrant-client                           1.9.1\n",
      "qstylizer                               0.2.2\n",
      "QtAwesome                               1.3.1\n",
      "qtconsole                               5.5.1\n",
      "QtPy                                    2.4.1\n",
      "queuelib                                1.6.2\n",
      "referencing                             0.30.2\n",
      "regex                                   2024.9.11\n",
      "requests                                2.32.3\n",
      "requests-file                           1.5.1\n",
      "resampy                                 0.4.3\n",
      "rfc3339-validator                       0.1.4\n",
      "rfc3986-validator                       0.1.1\n",
      "rich                                    13.7.1\n",
      "rope                                    1.12.0\n",
      "rpds-py                                 0.10.6\n",
      "Rtree                                   1.0.1\n",
      "s3fs                                    2024.6.1\n",
      "s3transfer                              0.10.3\n",
      "safetensors                             0.4.5\n",
      "scikit-image                            0.24.0\n",
      "scikit-learn                            1.5.2\n",
      "scipy                                   1.13.1\n",
      "Scrapy                                  2.11.1\n",
      "seaborn                                 0.13.2\n",
      "Send2Trash                              1.8.2\n",
      "sentence-transformers                   3.2.0\n",
      "service-identity                        18.1.0\n",
      "setuptools                              75.1.0\n",
      "shellingham                             1.5.4\n",
      "sip                                     6.7.12\n",
      "six                                     1.16.0\n",
      "smart-open                              5.2.1\n",
      "smmap                                   4.0.0\n",
      "sniffio                                 1.3.0\n",
      "snowballstemmer                         2.2.0\n",
      "sortedcontainers                        2.4.0\n",
      "soupsieve                               2.5\n",
      "spacy                                   3.8.2\n",
      "spacy-legacy                            3.0.12\n",
      "spacy-loggers                           1.0.5\n",
      "Sphinx                                  7.3.7\n",
      "sphinxcontrib-applehelp                 1.0.2\n",
      "sphinxcontrib-devhelp                   1.0.2\n",
      "sphinxcontrib-htmlhelp                  2.0.0\n",
      "sphinxcontrib-jsmath                    1.0.1\n",
      "sphinxcontrib-qthelp                    1.0.3\n",
      "sphinxcontrib-serializinghtml           1.1.10\n",
      "spyder                                  5.5.1\n",
      "spyder-kernels                          2.5.0\n",
      "SQLAlchemy                              2.0.34\n",
      "srsly                                   2.4.8\n",
      "stack-data                              0.2.0\n",
      "starlette                               0.37.2\n",
      "statsmodels                             0.14.2\n",
      "streamlit                               1.37.1\n",
      "striprtf                                0.0.26\n",
      "sympy                                   1.13.2\n",
      "tables                                  3.10.1\n",
      "tabulate                                0.9.0\n",
      "tblib                                   1.7.0\n",
      "tenacity                                8.2.3\n",
      "tensorboard                             2.16.2\n",
      "tensorboard-data-server                 0.7.2\n",
      "tensorflow                              2.16.2\n",
      "tensorflow-io-gcs-filesystem            0.37.1\n",
      "termcolor                               2.5.0\n",
      "terminado                               0.17.1\n",
      "text-unidecode                          1.3\n",
      "textdistance                            4.2.1\n",
      "tf_keras                                2.16.0\n",
      "thinc                                   8.3.2\n",
      "threadpoolctl                           3.5.0\n",
      "three-merge                             0.1.1\n",
      "tifffile                                2023.4.12\n",
      "tiktoken                                0.8.0\n",
      "tinycss2                                1.2.1\n",
      "tldextract                              5.1.2\n",
      "tokenizers                              0.20.1\n",
      "toml                                    0.10.2\n",
      "tomli                                   2.0.1\n",
      "tomlkit                                 0.11.1\n",
      "toolz                                   0.12.0\n",
      "torch                                   2.2.2\n",
      "tornado                                 6.4.1\n",
      "tqdm                                    4.66.5\n",
      "traitlets                               5.14.3\n",
      "transformers                            4.45.2\n",
      "Twisted                                 23.10.0\n",
      "typer                                   0.12.5\n",
      "typing_extensions                       4.11.0\n",
      "typing-inspect                          0.9.0\n",
      "tzdata                                  2023.3\n",
      "uc-micro-py                             1.0.1\n",
      "ujson                                   5.10.0\n",
      "unicodedata2                            15.1.0\n",
      "Unidecode                               1.3.8\n",
      "uri-template                            1.3.0\n",
      "urllib3                                 2.2.3\n",
      "uvicorn                                 0.30.6\n",
      "uvloop                                  0.21.0\n",
      "w3lib                                   2.1.2\n",
      "wasabi                                  1.1.3\n",
      "watchdog                                4.0.1\n",
      "watchfiles                              0.24.0\n",
      "wcwidth                                 0.2.5\n",
      "weasel                                  0.4.1\n",
      "webcolors                               24.8.0\n",
      "webencodings                            0.5.1\n",
      "websocket-client                        1.8.0\n",
      "websockets                              13.1\n",
      "Werkzeug                                3.0.3\n",
      "whatthepatch                            1.0.2\n",
      "wheel                                   0.44.0\n",
      "widgetsnbextension                      3.6.6\n",
      "wrapt                                   1.14.1\n",
      "wurlitzer                               3.0.2\n",
      "xarray                                  2023.6.0\n",
      "xgboost                                 2.1.2\n",
      "xlwings                                 0.32.1\n",
      "xxhash                                  3.5.0\n",
      "xyzservices                             2022.9.0\n",
      "yapf                                    0.40.2\n",
      "yarl                                    1.11.0\n",
      "yfinance                                0.2.49\n",
      "zict                                    3.0.0\n",
      "zipp                                    3.17.0\n",
      "zope.interface                          5.4.0\n"
     ]
    }
   ],
   "source": [
    "!pip list"
   ]
  },
  {
   "cell_type": "code",
   "execution_count": 2,
   "id": "f885fffe-cc1c-4a28-aff5-ae2e2f0f2472",
   "metadata": {},
   "outputs": [
    {
     "name": "stderr",
     "output_type": "stream",
     "text": [
      "[nltk_data] Downloading package punkt to\n",
      "[nltk_data]     /Users/vishwaasnarasinh/nltk_data...\n",
      "[nltk_data]   Unzipping tokenizers/punkt.zip.\n"
     ]
    },
    {
     "data": {
      "text/plain": [
       "True"
      ]
     },
     "execution_count": 2,
     "metadata": {},
     "output_type": "execute_result"
    }
   ],
   "source": [
    "import nltk\n",
    "nltk.download('punkt')"
   ]
  },
  {
   "cell_type": "code",
   "execution_count": 48,
   "id": "4071d4ad-e029-48db-bffe-0d308a98b177",
   "metadata": {
    "scrolled": true
   },
   "outputs": [
    {
     "name": "stderr",
     "output_type": "stream",
     "text": [
      "huggingface/tokenizers: The current process just got forked, after parallelism has already been used. Disabling parallelism to avoid deadlocks...\n",
      "To disable this warning, you can either:\n",
      "\t- Avoid using `tokenizers` before the fork if possible\n",
      "\t- Explicitly set the environment variable TOKENIZERS_PARALLELISM=(true | false)\n"
     ]
    },
    {
     "name": "stdout",
     "output_type": "stream",
     "text": [
      "Collecting llama-index-embeddings-openai\n",
      "  Downloading llama_index_embeddings_openai-0.3.0-py3-none-any.whl.metadata (684 bytes)\n",
      "Collecting llama-index-core<0.13.0,>=0.12.0 (from llama-index-embeddings-openai)\n",
      "  Downloading llama_index_core-0.12.1-py3-none-any.whl.metadata (2.5 kB)\n",
      "Collecting openai>=1.1.0 (from llama-index-embeddings-openai)\n",
      "  Downloading openai-1.55.0-py3-none-any.whl.metadata (24 kB)\n",
      "Requirement already satisfied: PyYAML>=6.0.1 in /opt/anaconda3/envs/env_1/lib/python3.10/site-packages (from llama-index-core<0.13.0,>=0.12.0->llama-index-embeddings-openai) (6.0.1)\n",
      "Requirement already satisfied: SQLAlchemy>=1.4.49 in /opt/anaconda3/envs/env_1/lib/python3.10/site-packages (from SQLAlchemy[asyncio]>=1.4.49->llama-index-core<0.13.0,>=0.12.0->llama-index-embeddings-openai) (2.0.34)\n",
      "Requirement already satisfied: aiohttp<4.0.0,>=3.8.6 in /opt/anaconda3/envs/env_1/lib/python3.10/site-packages (from llama-index-core<0.13.0,>=0.12.0->llama-index-embeddings-openai) (3.10.5)\n",
      "Requirement already satisfied: dataclasses-json in /opt/anaconda3/envs/env_1/lib/python3.10/site-packages (from llama-index-core<0.13.0,>=0.12.0->llama-index-embeddings-openai) (0.6.7)\n",
      "Requirement already satisfied: deprecated>=1.2.9.3 in /opt/anaconda3/envs/env_1/lib/python3.10/site-packages (from llama-index-core<0.13.0,>=0.12.0->llama-index-embeddings-openai) (1.2.14)\n",
      "Requirement already satisfied: dirtyjson<2.0.0,>=1.0.8 in /opt/anaconda3/envs/env_1/lib/python3.10/site-packages (from llama-index-core<0.13.0,>=0.12.0->llama-index-embeddings-openai) (1.0.8)\n",
      "Collecting filetype<2.0.0,>=1.2.0 (from llama-index-core<0.13.0,>=0.12.0->llama-index-embeddings-openai)\n",
      "  Downloading filetype-1.2.0-py2.py3-none-any.whl.metadata (6.5 kB)\n",
      "Requirement already satisfied: fsspec>=2023.5.0 in /opt/anaconda3/envs/env_1/lib/python3.10/site-packages (from llama-index-core<0.13.0,>=0.12.0->llama-index-embeddings-openai) (2024.6.1)\n",
      "Requirement already satisfied: httpx in /opt/anaconda3/envs/env_1/lib/python3.10/site-packages (from llama-index-core<0.13.0,>=0.12.0->llama-index-embeddings-openai) (0.27.0)\n",
      "Requirement already satisfied: nest-asyncio<2.0.0,>=1.5.8 in /opt/anaconda3/envs/env_1/lib/python3.10/site-packages (from llama-index-core<0.13.0,>=0.12.0->llama-index-embeddings-openai) (1.6.0)\n",
      "Requirement already satisfied: networkx>=3.0 in /opt/anaconda3/envs/env_1/lib/python3.10/site-packages (from llama-index-core<0.13.0,>=0.12.0->llama-index-embeddings-openai) (3.3)\n",
      "Requirement already satisfied: nltk>3.8.1 in /opt/anaconda3/envs/env_1/lib/python3.10/site-packages (from llama-index-core<0.13.0,>=0.12.0->llama-index-embeddings-openai) (3.9.1)\n",
      "Requirement already satisfied: numpy in /opt/anaconda3/envs/env_1/lib/python3.10/site-packages (from llama-index-core<0.13.0,>=0.12.0->llama-index-embeddings-openai) (1.26.4)\n",
      "Requirement already satisfied: pillow>=9.0.0 in /opt/anaconda3/envs/env_1/lib/python3.10/site-packages (from llama-index-core<0.13.0,>=0.12.0->llama-index-embeddings-openai) (10.4.0)\n",
      "Requirement already satisfied: pydantic<2.10.0,>=2.7.0 in /opt/anaconda3/envs/env_1/lib/python3.10/site-packages (from llama-index-core<0.13.0,>=0.12.0->llama-index-embeddings-openai) (2.8.2)\n",
      "Requirement already satisfied: requests>=2.31.0 in /opt/anaconda3/envs/env_1/lib/python3.10/site-packages (from llama-index-core<0.13.0,>=0.12.0->llama-index-embeddings-openai) (2.32.3)\n",
      "Requirement already satisfied: tenacity!=8.4.0,<9.0.0,>=8.2.0 in /opt/anaconda3/envs/env_1/lib/python3.10/site-packages (from llama-index-core<0.13.0,>=0.12.0->llama-index-embeddings-openai) (8.2.3)\n",
      "Requirement already satisfied: tiktoken>=0.3.3 in /opt/anaconda3/envs/env_1/lib/python3.10/site-packages (from llama-index-core<0.13.0,>=0.12.0->llama-index-embeddings-openai) (0.8.0)\n",
      "Requirement already satisfied: tqdm<5.0.0,>=4.66.1 in /opt/anaconda3/envs/env_1/lib/python3.10/site-packages (from llama-index-core<0.13.0,>=0.12.0->llama-index-embeddings-openai) (4.66.5)\n",
      "Requirement already satisfied: typing-extensions>=4.5.0 in /opt/anaconda3/envs/env_1/lib/python3.10/site-packages (from llama-index-core<0.13.0,>=0.12.0->llama-index-embeddings-openai) (4.11.0)\n",
      "Requirement already satisfied: typing-inspect>=0.8.0 in /opt/anaconda3/envs/env_1/lib/python3.10/site-packages (from llama-index-core<0.13.0,>=0.12.0->llama-index-embeddings-openai) (0.9.0)\n",
      "Requirement already satisfied: wrapt in /opt/anaconda3/envs/env_1/lib/python3.10/site-packages (from llama-index-core<0.13.0,>=0.12.0->llama-index-embeddings-openai) (1.14.1)\n",
      "Requirement already satisfied: anyio<5,>=3.5.0 in /opt/anaconda3/envs/env_1/lib/python3.10/site-packages (from openai>=1.1.0->llama-index-embeddings-openai) (4.2.0)\n",
      "Collecting distro<2,>=1.7.0 (from openai>=1.1.0->llama-index-embeddings-openai)\n",
      "  Downloading distro-1.9.0-py3-none-any.whl.metadata (6.8 kB)\n",
      "Collecting jiter<1,>=0.4.0 (from openai>=1.1.0->llama-index-embeddings-openai)\n",
      "  Downloading jiter-0.7.1-cp310-cp310-macosx_10_12_x86_64.whl.metadata (5.2 kB)\n",
      "Requirement already satisfied: sniffio in /opt/anaconda3/envs/env_1/lib/python3.10/site-packages (from openai>=1.1.0->llama-index-embeddings-openai) (1.3.0)\n",
      "Requirement already satisfied: aiohappyeyeballs>=2.3.0 in /opt/anaconda3/envs/env_1/lib/python3.10/site-packages (from aiohttp<4.0.0,>=3.8.6->llama-index-core<0.13.0,>=0.12.0->llama-index-embeddings-openai) (2.4.0)\n",
      "Requirement already satisfied: aiosignal>=1.1.2 in /opt/anaconda3/envs/env_1/lib/python3.10/site-packages (from aiohttp<4.0.0,>=3.8.6->llama-index-core<0.13.0,>=0.12.0->llama-index-embeddings-openai) (1.2.0)\n",
      "Requirement already satisfied: attrs>=17.3.0 in /opt/anaconda3/envs/env_1/lib/python3.10/site-packages (from aiohttp<4.0.0,>=3.8.6->llama-index-core<0.13.0,>=0.12.0->llama-index-embeddings-openai) (23.1.0)\n",
      "Requirement already satisfied: frozenlist>=1.1.1 in /opt/anaconda3/envs/env_1/lib/python3.10/site-packages (from aiohttp<4.0.0,>=3.8.6->llama-index-core<0.13.0,>=0.12.0->llama-index-embeddings-openai) (1.4.0)\n",
      "Requirement already satisfied: multidict<7.0,>=4.5 in /opt/anaconda3/envs/env_1/lib/python3.10/site-packages (from aiohttp<4.0.0,>=3.8.6->llama-index-core<0.13.0,>=0.12.0->llama-index-embeddings-openai) (6.0.4)\n",
      "Requirement already satisfied: yarl<2.0,>=1.0 in /opt/anaconda3/envs/env_1/lib/python3.10/site-packages (from aiohttp<4.0.0,>=3.8.6->llama-index-core<0.13.0,>=0.12.0->llama-index-embeddings-openai) (1.11.0)\n",
      "Requirement already satisfied: async-timeout<5.0,>=4.0 in /opt/anaconda3/envs/env_1/lib/python3.10/site-packages (from aiohttp<4.0.0,>=3.8.6->llama-index-core<0.13.0,>=0.12.0->llama-index-embeddings-openai) (4.0.3)\n",
      "Requirement already satisfied: idna>=2.8 in /opt/anaconda3/envs/env_1/lib/python3.10/site-packages (from anyio<5,>=3.5.0->openai>=1.1.0->llama-index-embeddings-openai) (3.7)\n",
      "Requirement already satisfied: exceptiongroup>=1.0.2 in /opt/anaconda3/envs/env_1/lib/python3.10/site-packages (from anyio<5,>=3.5.0->openai>=1.1.0->llama-index-embeddings-openai) (1.2.0)\n",
      "Requirement already satisfied: certifi in /opt/anaconda3/envs/env_1/lib/python3.10/site-packages (from httpx->llama-index-core<0.13.0,>=0.12.0->llama-index-embeddings-openai) (2024.8.30)\n",
      "Requirement already satisfied: httpcore==1.* in /opt/anaconda3/envs/env_1/lib/python3.10/site-packages (from httpx->llama-index-core<0.13.0,>=0.12.0->llama-index-embeddings-openai) (1.0.2)\n",
      "Requirement already satisfied: h11<0.15,>=0.13 in /opt/anaconda3/envs/env_1/lib/python3.10/site-packages (from httpcore==1.*->httpx->llama-index-core<0.13.0,>=0.12.0->llama-index-embeddings-openai) (0.14.0)\n",
      "Requirement already satisfied: click in /opt/anaconda3/envs/env_1/lib/python3.10/site-packages (from nltk>3.8.1->llama-index-core<0.13.0,>=0.12.0->llama-index-embeddings-openai) (8.1.7)\n",
      "Requirement already satisfied: joblib in /opt/anaconda3/envs/env_1/lib/python3.10/site-packages (from nltk>3.8.1->llama-index-core<0.13.0,>=0.12.0->llama-index-embeddings-openai) (1.4.2)\n",
      "Requirement already satisfied: regex>=2021.8.3 in /opt/anaconda3/envs/env_1/lib/python3.10/site-packages (from nltk>3.8.1->llama-index-core<0.13.0,>=0.12.0->llama-index-embeddings-openai) (2024.9.11)\n",
      "Requirement already satisfied: annotated-types>=0.4.0 in /opt/anaconda3/envs/env_1/lib/python3.10/site-packages (from pydantic<2.10.0,>=2.7.0->llama-index-core<0.13.0,>=0.12.0->llama-index-embeddings-openai) (0.7.0)\n",
      "Requirement already satisfied: pydantic-core==2.20.1 in /opt/anaconda3/envs/env_1/lib/python3.10/site-packages (from pydantic<2.10.0,>=2.7.0->llama-index-core<0.13.0,>=0.12.0->llama-index-embeddings-openai) (2.20.1)\n",
      "Requirement already satisfied: charset-normalizer<4,>=2 in /opt/anaconda3/envs/env_1/lib/python3.10/site-packages (from requests>=2.31.0->llama-index-core<0.13.0,>=0.12.0->llama-index-embeddings-openai) (3.3.2)\n",
      "Requirement already satisfied: urllib3<3,>=1.21.1 in /opt/anaconda3/envs/env_1/lib/python3.10/site-packages (from requests>=2.31.0->llama-index-core<0.13.0,>=0.12.0->llama-index-embeddings-openai) (2.2.3)\n",
      "Requirement already satisfied: greenlet!=0.4.17 in /opt/anaconda3/envs/env_1/lib/python3.10/site-packages (from SQLAlchemy>=1.4.49->SQLAlchemy[asyncio]>=1.4.49->llama-index-core<0.13.0,>=0.12.0->llama-index-embeddings-openai) (3.0.1)\n",
      "Requirement already satisfied: mypy-extensions>=0.3.0 in /opt/anaconda3/envs/env_1/lib/python3.10/site-packages (from typing-inspect>=0.8.0->llama-index-core<0.13.0,>=0.12.0->llama-index-embeddings-openai) (1.0.0)\n",
      "Requirement already satisfied: marshmallow<4.0.0,>=3.18.0 in /opt/anaconda3/envs/env_1/lib/python3.10/site-packages (from dataclasses-json->llama-index-core<0.13.0,>=0.12.0->llama-index-embeddings-openai) (3.22.0)\n",
      "Requirement already satisfied: packaging>=17.0 in /opt/anaconda3/envs/env_1/lib/python3.10/site-packages (from marshmallow<4.0.0,>=3.18.0->dataclasses-json->llama-index-core<0.13.0,>=0.12.0->llama-index-embeddings-openai) (24.1)\n",
      "Downloading llama_index_embeddings_openai-0.3.0-py3-none-any.whl (6.1 kB)\n",
      "Downloading llama_index_core-0.12.1-py3-none-any.whl (1.6 MB)\n",
      "\u001b[2K   \u001b[90m━━━━━━━━━━━━━━━━━━━━━━━━━━━━━━━━━━━━━━━━\u001b[0m \u001b[32m1.6/1.6 MB\u001b[0m \u001b[31m10.4 MB/s\u001b[0m eta \u001b[36m0:00:00\u001b[0m\n",
      "\u001b[?25hDownloading openai-1.55.0-py3-none-any.whl (389 kB)\n",
      "Downloading distro-1.9.0-py3-none-any.whl (20 kB)\n",
      "Downloading filetype-1.2.0-py2.py3-none-any.whl (19 kB)\n",
      "Downloading jiter-0.7.1-cp310-cp310-macosx_10_12_x86_64.whl (291 kB)\n",
      "Installing collected packages: filetype, jiter, distro, openai, llama-index-core, llama-index-embeddings-openai\n",
      "  Attempting uninstall: llama-index-core\n",
      "    Found existing installation: llama-index-core 0.10.68.post1\n",
      "    Uninstalling llama-index-core-0.10.68.post1:\n",
      "      Successfully uninstalled llama-index-core-0.10.68.post1\n",
      "\u001b[31mERROR: pip's dependency resolver does not currently take into account all the packages that are installed. This behaviour is the source of the following dependency conflicts.\n",
      "llama-index-embeddings-huggingface 0.2.2 requires llama-index-core<0.11.0,>=0.10.1, but you have llama-index-core 0.12.1 which is incompatible.\n",
      "llama-index-llms-ollama 0.1.5 requires llama-index-core<0.11.0,>=0.10.1, but you have llama-index-core 0.12.1 which is incompatible.\n",
      "llama-index-readers-file 0.1.33 requires llama-index-core<0.11.0,>=0.10.37.post1, but you have llama-index-core 0.12.1 which is incompatible.\n",
      "llama-index-vector-stores-qdrant 0.2.10 requires llama-index-core<0.11.0,>=0.10.1, but you have llama-index-core 0.12.1 which is incompatible.\u001b[0m\u001b[31m\n",
      "\u001b[0mSuccessfully installed distro-1.9.0 filetype-1.2.0 jiter-0.7.1 llama-index-core-0.12.1 llama-index-embeddings-openai-0.3.0 openai-1.55.0\n"
     ]
    }
   ],
   "source": [
    "!pip install llama-index-embeddings-openai"
   ]
  },
  {
   "cell_type": "code",
   "execution_count": 2,
   "id": "2d00d8cb-57ca-4e81-9670-2d6486ed6e89",
   "metadata": {},
   "outputs": [],
   "source": [
    "Settings.embed_model = HuggingFaceEmbedding(\n",
    "    model_name='llmrails/ember-v1'\n",
    ")"
   ]
  },
  {
   "cell_type": "code",
   "execution_count": 3,
   "id": "2885b009-87e6-4e4c-86d4-6ef66cb26cf3",
   "metadata": {},
   "outputs": [],
   "source": [
    "Settings.chunk_size = 2048\n",
    "\n",
    "# The below command works only on Mac and Linux\n",
    "!export PYTORCH_MPS_HIGH_WATERMARK_RATIO=0.0"
   ]
  },
  {
   "cell_type": "code",
   "execution_count": 4,
   "id": "bbcf7000-8e4e-4bbc-b926-476192f06996",
   "metadata": {},
   "outputs": [],
   "source": [
    "def initialize_qdrant():\n",
    "    # Connect to Qdrant\n",
    "    qdrant_client = QdrantClient(host=\"localhost\", port=6333)\n",
    "    \n",
    "    # # Create the collection (specify vector size and distance metric)\n",
    "    # vector_params = VectorParams(size=1024, distance=\"Cosine\")  # Example: 768-dimensional vectors (e.g., BERT)\n",
    "    \n",
    "    # qdrant_client.recreate_collection(\n",
    "    #     collection_name=\"finance_collection\", \n",
    "    #     vectors_config=vector_params\n",
    "    # )\n",
    "\n",
    "    return qdrant_client\n"
   ]
  },
  {
   "cell_type": "code",
   "execution_count": 36,
   "id": "c10c4476-c6e6-4ae4-a048-da6d094c710d",
   "metadata": {},
   "outputs": [],
   "source": [
    "# Delete old collection if necessary\n",
    "# client.delete_collection('finance_collection')"
   ]
  },
  {
   "cell_type": "code",
   "execution_count": 5,
   "id": "a7ed4e75-c7d1-43d6-8005-20359c1545b4",
   "metadata": {},
   "outputs": [],
   "source": [
    "def get_locations(json_data):\n",
    "    locations_list = json_data['entities']['locations']\n",
    "    locations = []\n",
    "    for ld in locations_list:\n",
    "        if ('name' in ld) and ld['name'].strip()!='':\n",
    "            locations.append(ld['name'])    \n",
    "\n",
    "    if locations:\n",
    "        return ', '.join(locations)\n",
    "\n",
    "    return ''\n",
    "\n",
    "def json_2_text(json_data):\n",
    "    title = json_data['title']\n",
    "    location = get_locations(json_data)\n",
    "    \n",
    "    title_template = f'The title of the news article is {title}.'\n",
    "    if location:\n",
    "        location_template = f'The locations relavant to the article are: {location}.'\n",
    "    else:\n",
    "        location_template = ''\n",
    "    published = json_data['published'][:10]\n",
    "    date_template = f'This article was published on {published}'\n",
    "    article = json_data['text']\n",
    "    article_template = f'Article: {article}'\n",
    "\n",
    "    item = {'title': title, 'location': location, 'published':  published, 'article': article}\n",
    "    text = ' '.join([title_template, location_template, date_template, article_template])\n",
    "    return text, item\n",
    "    \n",
    "    \n",
    "def extract_data(qdrant_client, number_of_folders=4, number_of_files_per_folder=10000, collection_name='finance_collection'):\n",
    "    base_folder = 'data/US_Financial_News_Articles'\n",
    "    c=0\n",
    "    llama_documents = []\n",
    "    for folder_name in os.listdir(base_folder)[:number_of_folders]:\n",
    "        folder_path = os.path.join(base_folder, folder_name)\n",
    "        if not os.path.isdir(folder_path):\n",
    "            continue\n",
    "        for file_name in tqdm(os.listdir(folder_path)[:number_of_files_per_folder]):\n",
    "            file_path = os.path.join(folder_path, file_name)\n",
    "            with open(file_path, 'r') as f:\n",
    "                json_data = json.load(f)\n",
    "                text, item = json_2_text(json_data)\n",
    "                point_id = str(uuid.uuid4())\n",
    "                vector = Settings.embed_model.get_text_embedding(text)\n",
    "                point = {\n",
    "                \"id\": point_id,\n",
    "                \"vector\": vector,\n",
    "                \"payload\": {\n",
    "                    \"title\": item[\"title\"],\n",
    "                    \"location\": item[\"location\"],\n",
    "                    \"published\": item[\"published\"],\n",
    "                    \"article\": item[\"article\"],\n",
    "                }\n",
    "                }\n",
    "            c+=1\n",
    "\n",
    "            document = Document(metadata=item, text=text)\n",
    "            llama_documents.append(document)\n",
    "            # qdrant_client.upsert(collection_name=collection_name, points=[point])\n",
    "    return llama_documents\n",
    "\n",
    "def index_data(qdrant_client, llama_documents, collection_name='finance_collection'):\n",
    "    vector_store = QdrantVectorStore(client=qdrant_client, collection_name=collection_name)\n",
    "    storage_context = StorageContext.from_defaults(vector_store=vector_store)\n",
    "    # print(llama_documents)\n",
    "    index = VectorStoreIndex([]) \n",
    "    for doc in tqdm(llama_documents[:]):\n",
    "        try:\n",
    "            index.insert(doc)\n",
    "        except ValueError as v:\n",
    "            print(f'Skipped: {v}')\n",
    "\n",
    "        \n",
    "    # index = VectorStoreIndex.from_documents(llama_documents[:40000], storage_context=storage_context)\n",
    "\n",
    "\n"
   ]
  },
  {
   "cell_type": "code",
   "execution_count": 41,
   "id": "102c0f84-beef-4276-921e-dbe52ece8959",
   "metadata": {},
   "outputs": [
    {
     "name": "stderr",
     "output_type": "stream",
     "text": [
      "100%|█████████████████████████████████████████| 100/100 [01:02<00:00,  1.60it/s]\n"
     ]
    }
   ],
   "source": [
    "client = initialize_qdrant() \n",
    "number_of_folders = 2 # max 4 possible\n",
    "number_of_files_per_folder = 10000\n",
    "llama_documents = extract_data(client, 1, 100)\n"
   ]
  },
  {
   "cell_type": "code",
   "execution_count": 34,
   "id": "60f1e8bb-4f59-4e90-8613-2f67e5ecda7e",
   "metadata": {
    "scrolled": true
   },
   "outputs": [
    {
     "name": "stderr",
     "output_type": "stream",
     "text": [
      "  3%|█▎                                         | 6/200 [00:30<22:23,  6.92s/it]"
     ]
    },
    {
     "name": "stdout",
     "output_type": "stream",
     "text": [
      "Skipped Metadata length (1166) is longer than chunk size (1024). Consider increasing the chunk size or decreasing the size of your metadata to avoid this.\n",
      "Skipped Metadata length (1528) is longer than chunk size (1024). Consider increasing the chunk size or decreasing the size of your metadata to avoid this.\n"
     ]
    },
    {
     "name": "stderr",
     "output_type": "stream",
     "text": [
      "  5%|██                                        | 10/200 [00:34<09:02,  2.86s/it]"
     ]
    },
    {
     "name": "stdout",
     "output_type": "stream",
     "text": [
      "Skipped Metadata length (4630) is longer than chunk size (1024). Consider increasing the chunk size or decreasing the size of your metadata to avoid this.\n"
     ]
    },
    {
     "name": "stderr",
     "output_type": "stream",
     "text": [
      " 28%|███████████▌                              | 55/200 [02:50<03:27,  1.43s/it]"
     ]
    },
    {
     "name": "stdout",
     "output_type": "stream",
     "text": [
      "Skipped Metadata length (1095) is longer than chunk size (1024). Consider increasing the chunk size or decreasing the size of your metadata to avoid this.\n"
     ]
    },
    {
     "name": "stderr",
     "output_type": "stream",
     "text": [
      " 33%|█████████████▊                            | 66/200 [03:09<02:34,  1.15s/it]"
     ]
    },
    {
     "name": "stdout",
     "output_type": "stream",
     "text": [
      "Skipped Metadata length (1219) is longer than chunk size (1024). Consider increasing the chunk size or decreasing the size of your metadata to avoid this.\n"
     ]
    },
    {
     "name": "stderr",
     "output_type": "stream",
     "text": [
      " 40%|█████████████████                         | 81/200 [05:02<12:29,  6.30s/it]"
     ]
    },
    {
     "name": "stdout",
     "output_type": "stream",
     "text": [
      "Skipped Metadata length (1045) is longer than chunk size (1024). Consider increasing the chunk size or decreasing the size of your metadata to avoid this.\n"
     ]
    },
    {
     "name": "stderr",
     "output_type": "stream",
     "text": [
      " 51%|████████████████████▉                    | 102/200 [06:19<04:01,  2.46s/it]"
     ]
    },
    {
     "name": "stdout",
     "output_type": "stream",
     "text": [
      "Skipped Metadata length (7425) is longer than chunk size (1024). Consider increasing the chunk size or decreasing the size of your metadata to avoid this.\n"
     ]
    },
    {
     "name": "stderr",
     "output_type": "stream",
     "text": [
      " 67%|███████████████████████████▍             | 134/200 [08:55<15:06, 13.74s/it]"
     ]
    },
    {
     "name": "stdout",
     "output_type": "stream",
     "text": [
      "Skipped Metadata length (1434) is longer than chunk size (1024). Consider increasing the chunk size or decreasing the size of your metadata to avoid this.\n"
     ]
    },
    {
     "name": "stderr",
     "output_type": "stream",
     "text": [
      " 74%|██████████████████████████████▎          | 148/200 [09:11<00:54,  1.05s/it]"
     ]
    },
    {
     "name": "stdout",
     "output_type": "stream",
     "text": [
      "Skipped Metadata length (1920) is longer than chunk size (1024). Consider increasing the chunk size or decreasing the size of your metadata to avoid this.\n"
     ]
    },
    {
     "name": "stderr",
     "output_type": "stream",
     "text": [
      " 75%|██████████████████████████████▊          | 150/200 [09:12<00:38,  1.31it/s]"
     ]
    },
    {
     "name": "stdout",
     "output_type": "stream",
     "text": [
      "Skipped Metadata length (1025) is longer than chunk size (1024). Consider increasing the chunk size or decreasing the size of your metadata to avoid this.\n"
     ]
    },
    {
     "name": "stderr",
     "output_type": "stream",
     "text": [
      " 82%|█████████████████████████████████▌       | 164/200 [09:20<00:22,  1.60it/s]"
     ]
    },
    {
     "name": "stdout",
     "output_type": "stream",
     "text": [
      "Skipped Metadata length (4348) is longer than chunk size (1024). Consider increasing the chunk size or decreasing the size of your metadata to avoid this.\n",
      "Skipped Metadata length (2041) is longer than chunk size (1024). Consider increasing the chunk size or decreasing the size of your metadata to avoid this.\n"
     ]
    },
    {
     "name": "stderr",
     "output_type": "stream",
     "text": [
      " 85%|██████████████████████████████████▊      | 170/200 [09:22<00:14,  2.08it/s]"
     ]
    },
    {
     "name": "stdout",
     "output_type": "stream",
     "text": [
      "Skipped Metadata length (1193) is longer than chunk size (1024). Consider increasing the chunk size or decreasing the size of your metadata to avoid this.\n"
     ]
    },
    {
     "name": "stderr",
     "output_type": "stream",
     "text": [
      " 88%|████████████████████████████████████     | 176/200 [09:56<01:26,  3.61s/it]"
     ]
    },
    {
     "name": "stdout",
     "output_type": "stream",
     "text": [
      "Skipped Metadata length (1172) is longer than chunk size (1024). Consider increasing the chunk size or decreasing the size of your metadata to avoid this.\n"
     ]
    },
    {
     "name": "stderr",
     "output_type": "stream",
     "text": [
      " 95%|██████████████████████████████████████▉  | 190/200 [11:06<00:30,  3.02s/it]"
     ]
    },
    {
     "name": "stdout",
     "output_type": "stream",
     "text": [
      "Skipped Metadata length (3129) is longer than chunk size (1024). Consider increasing the chunk size or decreasing the size of your metadata to avoid this.\n"
     ]
    },
    {
     "name": "stderr",
     "output_type": "stream",
     "text": [
      " 96%|███████████████████████████████████████▌ | 193/200 [11:09<00:13,  1.94s/it]"
     ]
    },
    {
     "name": "stdout",
     "output_type": "stream",
     "text": [
      "Skipped Metadata length (2438) is longer than chunk size (1024). Consider increasing the chunk size or decreasing the size of your metadata to avoid this.\n"
     ]
    },
    {
     "name": "stderr",
     "output_type": "stream",
     "text": [
      " 99%|████████████████████████████████████████▌| 198/200 [11:23<00:04,  2.28s/it]"
     ]
    },
    {
     "name": "stdout",
     "output_type": "stream",
     "text": [
      "Skipped Metadata length (1618) is longer than chunk size (1024). Consider increasing the chunk size or decreasing the size of your metadata to avoid this.\n"
     ]
    },
    {
     "name": "stderr",
     "output_type": "stream",
     "text": [
      "100%|█████████████████████████████████████████| 200/200 [11:26<00:00,  3.43s/it]\n"
     ]
    }
   ],
   "source": [
    "index_data(client, llama_documents)"
   ]
  },
  {
   "cell_type": "code",
   "execution_count": 6,
   "id": "15715a93-bf0b-4d2d-a35d-0ba063401c4a",
   "metadata": {},
   "outputs": [],
   "source": [
    "class CustomQdrantClient:\n",
    "    def __init__(self, client) -> None:\n",
    "        self._client: QdrantClient = client\n",
    "\n",
    "    def collection_exists(self, c):\n",
    "        return self._client.collection_exists(c)\n",
    "\n",
    "    def search(self, collection_name, query_vector, limit, query_filter):\n",
    "        return self._client.search(\n",
    "            collection_name=collection_name,\n",
    "            query_vector=query_vector,\n",
    "            limit=limit,\n",
    "            query_filter=query_filter,\n",
    "            score_threshold = 0.3\n",
    "        )\n",
    "\n",
    "class QdrantService:\n",
    "    def __init__(self, client, collection_name='finance_collection'):\n",
    "        self.collection_name = collection_name\n",
    "        self.custom_qdrant_client = CustomQdrantClient(client)\n",
    "\n",
    "    def get_vector_store_index(self):\n",
    "\n",
    "        if not self.custom_qdrant_client.collection_exists(c=self.collection_name):\n",
    "            self.logger.warning(f\"Collection {self.collection_name} does not exist !\")\n",
    "            return None\n",
    "\n",
    "        vector_store = QdrantVectorStore(\n",
    "            client=self.custom_qdrant_client,\n",
    "            collection_name=self.collection_name,\n",
    "            parallel=1,\n",
    "        )\n",
    "        index: VectorStoreIndex = VectorStoreIndex.from_vector_store(vector_store=vector_store)\n",
    "        query_engine: BaseQueryEngine = index.as_query_engine(\n",
    "            similarity_top_k=5,\n",
    "            verbose=False, streaming=False\n",
    "        )\n",
    "        return query_engine\n"
   ]
  },
  {
   "cell_type": "code",
   "execution_count": 7,
   "id": "80149249-bd2a-45a8-a3ee-143bfa37e835",
   "metadata": {},
   "outputs": [],
   "source": [
    "class Message(BaseModel):\n",
    "    role: str\n",
    "    content: str"
   ]
  },
  {
   "cell_type": "code",
   "execution_count": 23,
   "id": "a08e02e8-afd7-4b82-accf-fe6b57414a50",
   "metadata": {},
   "outputs": [],
   "source": [
    "class FinanceQA:\n",
    "\n",
    "    def __init__(self, client):\n",
    "        self.llm_model: CustomLLM = self.get_model_instance()\n",
    "        self.set_defaults()\n",
    "\n",
    "        self.qdrant_ser: QdrantService = QdrantService(client)\n",
    "        self.vector_store_index: BaseQueryEngine = self.qdrant_ser.get_vector_store_index()\n",
    "    \n",
    "    def get_model_instance(self):\n",
    "        model_name = 'tinyllama'\n",
    "        model_instance = Ollama(\n",
    "        # model = 'phi3:3.8b-mini-128k-instruct-q8_0',\n",
    "        model=model_name,\n",
    "        request_timeout = 480,\n",
    "        temperature = 0.3,\n",
    "        tokenizer_mode = \"slow\",\n",
    "        context_window = 3000,\n",
    "        additional_kwargs = {\n",
    "                'num_thread': 8,\n",
    "                'num_ctx': 2500,\n",
    "                'num_predict': 650\n",
    "        },\n",
    "        base_url = 'http://localhost:11434')\n",
    "        return model_instance\n",
    "\n",
    "    def convert_to_format(self, messages):\n",
    "        chat_messages = []\n",
    "        for message in messages:\n",
    "            chat_message = ChatMessage(\n",
    "                role=message.role,  # Convert string to MessageRole enum\n",
    "                content=message.content\n",
    "            )\n",
    "            chat_messages.append(chat_message)\n",
    "        return chat_messages\n",
    "    \n",
    "    \n",
    "\n",
    "\n",
    "    def set_defaults(self):\n",
    "        device = \"cuda\" if torch.cuda.is_available() else \"cpu\"\n",
    "        Settings.embed_model = HuggingFaceEmbedding(\n",
    "            model_name = 'llmrails/ember-v1', device=device\n",
    "        )\n",
    "        Settings.llm = self.llm_model\n",
    "\n",
    "    def llm_request(self, messages):\n",
    "        response = None\n",
    "        if self.vector_store_index:\n",
    "            response = self.vector_store_index.query(messages[-1].content)\n",
    "        if (response is None) or len(response.source_nodes) <= 0:\n",
    "            # self.logger.debug(\"vector index store response: {0} \\n\".format(response))\n",
    "            messages: List[ChatMessage] = self.convert_to_format(messages)\n",
    "            response = self.llm_model.chat(messages)\n",
    "            # self.logger.debug(\"llm response: {0} \\n\".format(response))\n",
    "        extra_info: str = \"is_LLM\"\n",
    "        return {\"response\": response, \"extra_info\": extra_info}\n",
    "\n",
    "    def async_health_check(self):\n",
    "        self.qdrant_ser.async_health_check()\n"
   ]
  },
  {
   "cell_type": "code",
   "execution_count": 24,
   "id": "b795b61a-e5d1-435e-ba8f-b0eb0e895980",
   "metadata": {},
   "outputs": [],
   "source": [
    "messages = [Message(role='user', content='How has Trump affected Financial markets?')]"
   ]
  },
  {
   "cell_type": "code",
   "execution_count": 25,
   "id": "4232e3a3-0169-4bf3-b34d-db8fa5824e0b",
   "metadata": {},
   "outputs": [],
   "source": [
    "client = initialize_qdrant() \n",
    "finance_qa = FinanceQA(client)"
   ]
  },
  {
   "cell_type": "code",
   "execution_count": 26,
   "id": "d81c60b0-9576-4509-9335-4eaecb22c76c",
   "metadata": {
    "scrolled": true
   },
   "outputs": [
    {
     "data": {
      "text/plain": [
       "{'response': Response(response=\"The news article discusses the impact of trade war fears on US stocks, with quotes from experts such as Mike Bailey and Ed Yaerdeni. The article also mentions that Brexit-related market volatility has caused investors to seek out safe havens, including the Nasdaq composite and Harley-Davidson. The article suggests that investors are worried about Trump's trade plan, with House Speaker Paul Ryan expressing concern over potential action if Trump decides to move forward with his tariff plan. The article also mentions that US stocks fell following Trump's announcement on steel and aluminum tariffs, with the Dow closing 420 points lower. The article suggests that investors may be risk-off as they buy into bond proxies like utilities in response to Trump's announcement. Brendan McDermid also notes that the bear market could make a comeback if President Donald Trump turns into an outright protectionist.\", source_nodes=[NodeWithScore(node=TextNode(id_='a90d5187-5387-444c-9804-e8453df00e1f', embedding=None, metadata={'title': 'Markets: trade nerves worsen as Trump advisor quits', 'location': '', 'published': '2018-03-07', 'article': 'Markets: trade nerves worsen as Trump advisor quits 12:27pm EST - 01:41 \\nGlobal stocks and the dollar slumped on Wednesday after a strong White House advocate for free trade resigned, fanning fears that President Donald Trump will proceed with protectionist tariffs and risk a trade war. David Pollard reports.   \\nGlobal stocks and the dollar slumped on Wednesday after a strong White House advocate for free trade resigned, fanning fears that President Donald Trump will proceed with protectionist tariffs and risk a trade war. David Pollard reports.  //reut.rs/2oWwk9C'}, excluded_embed_metadata_keys=[], excluded_llm_metadata_keys=[], relationships={<NodeRelationship.SOURCE: '1'>: RelatedNodeInfo(node_id='5a8bd3b1-b21f-481a-a4e8-c4ecd5cbca65', node_type=<ObjectType.DOCUMENT: '4'>, metadata={'title': 'Markets: trade nerves worsen as Trump advisor quits', 'location': '', 'published': '2018-03-07', 'article': 'Markets: trade nerves worsen as Trump advisor quits 12:27pm EST - 01:41 \\nGlobal stocks and the dollar slumped on Wednesday after a strong White House advocate for free trade resigned, fanning fears that President Donald Trump will proceed with protectionist tariffs and risk a trade war. David Pollard reports.   \\nGlobal stocks and the dollar slumped on Wednesday after a strong White House advocate for free trade resigned, fanning fears that President Donald Trump will proceed with protectionist tariffs and risk a trade war. David Pollard reports.  //reut.rs/2oWwk9C'}, hash='17caee7a0436575dad9da9f7ca7979695fec8846fbd91b053e34a339ae39657a')}, text='The title of the news article is Markets: trade nerves worsen as Trump advisor quits.  This article was published on 2018-03-07 Article: Markets: trade nerves worsen as Trump advisor quits 12:27pm EST - 01:41 \\nGlobal stocks and the dollar slumped on Wednesday after a strong White House advocate for free trade resigned, fanning fears that President Donald Trump will proceed with protectionist tariffs and risk a trade war. David Pollard reports.   \\nGlobal stocks and the dollar slumped on Wednesday after a strong White House advocate for free trade resigned, fanning fears that President Donald Trump will proceed with protectionist tariffs and risk a trade war. David Pollard reports.  //reut.rs/2oWwk9C', mimetype='text/plain', start_char_idx=0, end_char_idx=707, text_template='{metadata_str}\\n\\n{content}', metadata_template='{key}: {value}', metadata_seperator='\\n'), score=0.6130097), NodeWithScore(node=TextNode(id_='762a423a-d3fc-467a-9769-f87987ff1e68', embedding=None, metadata={'title': 'Stock market pre-markets data: Dow futures after stocks volatility', 'location': 'new york, u.s.', 'published': '2018-02-12', 'article': 'U.S. stock index futures pointed to a solid open on Monday, but worries about a return to inflation and a week of wild swings in the market kept investors on edge.\\nAs of 5 a.m. ET, the implied open for the Dow Jones industrial average was about 300 points to the upside. S&P 500 and Nasdaq futures were also set for strong gains at the open.\\nThe moves came after U.S. indexes rebounded on Friday, although the Dow still had its worst week in two years. The Dow Jones industrial average popped more than 300 points, recovering from deep early losses in what still amounted to the worst week in two years.\\nThe Dow ended the day up 330.44 points, or 1.38 percent, closing at 24,190.90. The S&P 500 rallied 1.49 percent to finish at 2,619.55, while the Nasdaq composite added 1.44 percent to close at 6,874.49.\\nStill, both the Dow and S&P 500 declined 5.2 percent on the week on investor concerns over rising interest rates.\\n\"While we cannot rule out further weakness (clearly it has gone deeper than we anticipated), we think the magnitude of the correction has largely run its course with the SPX testing its rising 200-day moving average and many metrics showing short-term washout conditions,\" Jonathan Krinsky, chief market technician at MKM Partners, said in a Sunday note.\\n\"The bigger question becomes will we see the \\'v-shaped\\' recovery that has become so common over recent years, or will it be more of a process like we saw following 2010\\'s \\'Flash Crash,\\'\" Krinsky added.\\nLarry McDonald, head of U.S. macro strategies at ACG Analytics and editor of The Bear Traps Report , said this was a \"trade-able bounce,\" but noted that a \"true regime change is here.\\nIn an email, McDonald said \"the FOMC will have significant challenges providing the same accommodative policy and pulling the same liquidity levers in the new political landscape\" following the passage of a major spending bill signed into law by President Donald Trump last Friday.\\n— CNBC\\'s Fred Imbert contributed to this report.'}, excluded_embed_metadata_keys=[], excluded_llm_metadata_keys=[], relationships={<NodeRelationship.SOURCE: '1'>: RelatedNodeInfo(node_id='65f16bc9-797f-4107-8292-960b02dc474c', node_type=<ObjectType.DOCUMENT: '4'>, metadata={'title': 'Stock market pre-markets data: Dow futures after stocks volatility', 'location': 'new york, u.s.', 'published': '2018-02-12', 'article': 'U.S. stock index futures pointed to a solid open on Monday, but worries about a return to inflation and a week of wild swings in the market kept investors on edge.\\nAs of 5 a.m. ET, the implied open for the Dow Jones industrial average was about 300 points to the upside. S&P 500 and Nasdaq futures were also set for strong gains at the open.\\nThe moves came after U.S. indexes rebounded on Friday, although the Dow still had its worst week in two years. The Dow Jones industrial average popped more than 300 points, recovering from deep early losses in what still amounted to the worst week in two years.\\nThe Dow ended the day up 330.44 points, or 1.38 percent, closing at 24,190.90. The S&P 500 rallied 1.49 percent to finish at 2,619.55, while the Nasdaq composite added 1.44 percent to close at 6,874.49.\\nStill, both the Dow and S&P 500 declined 5.2 percent on the week on investor concerns over rising interest rates.\\n\"While we cannot rule out further weakness (clearly it has gone deeper than we anticipated), we think the magnitude of the correction has largely run its course with the SPX testing its rising 200-day moving average and many metrics showing short-term washout conditions,\" Jonathan Krinsky, chief market technician at MKM Partners, said in a Sunday note.\\n\"The bigger question becomes will we see the \\'v-shaped\\' recovery that has become so common over recent years, or will it be more of a process like we saw following 2010\\'s \\'Flash Crash,\\'\" Krinsky added.\\nLarry McDonald, head of U.S. macro strategies at ACG Analytics and editor of The Bear Traps Report , said this was a \"trade-able bounce,\" but noted that a \"true regime change is here.\\nIn an email, McDonald said \"the FOMC will have significant challenges providing the same accommodative policy and pulling the same liquidity levers in the new political landscape\" following the passage of a major spending bill signed into law by President Donald Trump last Friday.\\n— CNBC\\'s Fred Imbert contributed to this report.'}, hash='000ed0ae633f32565bef061d5b179d0cf9c782e462b7bade5b49beefd6b101eb')}, text='The title of the news article is Stock market pre-markets data: Dow futures after stocks volatility. The locations relavant to the article are: new york, u.s.. This article was published on 2018-02-12 Article: U.S. stock index futures pointed to a solid open on Monday, but worries about a return to inflation and a week of wild swings in the market kept investors on edge.\\nAs of 5 a.m. ET, the implied open for the Dow Jones industrial average was about 300 points to the upside. S&P 500 and Nasdaq futures were also set for strong gains at the open.\\nThe moves came after U.S. indexes rebounded on Friday, although the Dow still had its worst week in two years. The Dow Jones industrial average popped more than 300 points, recovering from deep early losses in what still amounted to the worst week in two years.\\nThe Dow ended the day up 330.44 points, or 1.38 percent, closing at 24,190.90. The S&P 500 rallied 1.49 percent to finish at 2,619.55, while the Nasdaq composite added 1.44 percent to close at 6,874.49.\\nStill, both the Dow and S&P 500 declined 5.2 percent on the week on investor concerns over rising interest rates.\\n\"While we cannot rule out further weakness (clearly it has gone deeper than we anticipated), we think the magnitude of the correction has largely run its course with the SPX testing its rising 200-day moving average and many metrics showing short-term washout conditions,\" Jonathan Krinsky, chief market technician at MKM Partners, said in a Sunday note.\\n\"The bigger question becomes will we see the \\'v-shaped\\' recovery that has become so common over recent years, or will it be more of a process like we saw following 2010\\'s \\'Flash Crash,\\'\" Krinsky added.\\nLarry McDonald, head of U.S. macro strategies at ACG Analytics and editor of The Bear Traps Report , said this was a \"trade-able bounce,\" but noted that a \"true regime change is here.\\nIn an email, McDonald said \"the FOMC will have significant challenges providing the same accommodative policy and pulling the same liquidity levers in the new political landscape\" following the passage of a major spending bill signed into law by President Donald Trump last Friday.\\n— CNBC\\'s Fred Imbert contributed to this report.', mimetype='text/plain', start_char_idx=0, end_char_idx=2202, text_template='{metadata_str}\\n\\n{content}', metadata_template='{key}: {value}', metadata_seperator='\\n'), score=0.61115736), NodeWithScore(node=TextNode(id_='9a198b9b-f456-4d3f-ab2b-68596f25f6c2', embedding=None, metadata={'title': 'US stocks set for a negative open as trade war fears rumble on', 'location': 'u.s., us, eu, u.s', 'published': '2018-03-05', 'article': 'Dow closes 336 points higher as trade-war worries ease Caterpillar was the biggest contributor of gains to the Dow, rising 3.2 percent. \"Seeing Caterpillar and Harley-Davidson trade higher tells me that traders think this will end diplomatically,\" says one strategist. Trump appeared to be opening the door for negotiations on tariffs on Monday. 2 Hours Ago | 03:25 \\nStocks rose on Monday, erasing earlier losses, as worries about a potential trade war waned. \\nThe Dow Jones industrial average closed 336.70 points higher at 24,874.76 after dropping as much as 150 points. Caterpillar was the biggest contributor of gains to the Dow, rising 3.2 percent. \\nThe S&P 500 rose 1.1 percent to 2,720.94 after briefly trading lower, with utilities as the best-performing sector. Harley-Davidson, a closely watched stock amid the tariff news, rose 2.4 percent. The Nasdaq composite advanced 1 percent to close at 7,330.70. \\n\"Seeing Caterpillar and Harley-Davidson trade higher tells me that traders think this will end diplomatically,\" said Quincy Krosby, chief market strategist at Prudential Financial. She also noted that the President Donald Trump\\'s comments on NAFTA showed \"flexibility\" on his part. \\nTrump appeared to be opening the door for negotiations on tariffs. In a series of tweets Monday morning, Trump said: \"Tariffs on Steel and Aluminum will only come off if new & fair NAFTA agreement is signed,\" adding that \"Mexico must do much more on stopping drugs from pouring into the U.S. They have not done what needs to be done.\" Tweet \\nAlso, House Speaker Paul Ryan said he was \"extremely worried\" about Trump\\'s trade plan. Congressional leaders will not rule out potential action if Trump decides to move forward with his tariff plan. \\nTrump announced last week the U.S. will implement a 25 percent tariff on steel imports and a 10 percent tariff on aluminum imports. The news sparked fears of a potential global trade war as world leaders condemned the announcement. In response to the U.S. tariffs, the European Union proposed tariffs on Harley-Davidson bikes and other U.S. products. \\n\"We\\'re in an uncertainty zone with investors asking: \\'What\\'s going on?\\' with regards to protectionism and trade,\" said Mike Bailey, director of research at FBB Capital Partners. \"The first instinct seems to be risk-off as people buy into the bond proxies like utilities.\" \\nEquities fell following Trump\\'s announcement, with the Dow closing 420 points lower on Thursday. The S&P 500 and Nasdaq also closed lower that day. Brendan McDermid | Reuters Traders work on the floor of the New York Stock Exchange, (NYSE) in New York. \\n\"The bears could make a comeback if President Donald Trump turns into an outright protectionist,\" Ed Yardeni, president and chief investment strategist at Yardeni Research, said in a note Monday. \"More likely is that he will back off if the market continues to react badly to his protectionist pronouncements.\" \\nInvestors also looked to Mexico City as U.S., Mexico and Canada officials gathered for the last day of this round of negotiations. Both Canada and Mexico are threatening to retaliate if the U.S. moves forward with its steel and aluminum tariffs. \\n\"If tariffs are announced but keep NAFTA partners in scope, this would break with recent precedent, given that the steel tariffs under President Bush did not apply to Canada and Mexico,\" said Michael Zezas, managing director at Morgan Stanley, said in a note. \"Markets may have to reflect some increase in the probability that NAFTA talks fail.\" \\nIn corporate news, French insurer AXA is buying XL Group for $15.3 billion, or $57.60 a share, in a deal that would create a property and casualty insurance giant. XL shares rose 29 percent on the back of the news. Alexandra Gibbs Make It Reporter & Assistant Related Securities'}, excluded_embed_metadata_keys=[], excluded_llm_metadata_keys=[], relationships={<NodeRelationship.SOURCE: '1'>: RelatedNodeInfo(node_id='a5935fad-9d16-4d0a-8375-feb3bcd7ae1c', node_type=<ObjectType.DOCUMENT: '4'>, metadata={'title': 'US stocks set for a negative open as trade war fears rumble on', 'location': 'u.s., us, eu, u.s', 'published': '2018-03-05', 'article': 'Dow closes 336 points higher as trade-war worries ease Caterpillar was the biggest contributor of gains to the Dow, rising 3.2 percent. \"Seeing Caterpillar and Harley-Davidson trade higher tells me that traders think this will end diplomatically,\" says one strategist. Trump appeared to be opening the door for negotiations on tariffs on Monday. 2 Hours Ago | 03:25 \\nStocks rose on Monday, erasing earlier losses, as worries about a potential trade war waned. \\nThe Dow Jones industrial average closed 336.70 points higher at 24,874.76 after dropping as much as 150 points. Caterpillar was the biggest contributor of gains to the Dow, rising 3.2 percent. \\nThe S&P 500 rose 1.1 percent to 2,720.94 after briefly trading lower, with utilities as the best-performing sector. Harley-Davidson, a closely watched stock amid the tariff news, rose 2.4 percent. The Nasdaq composite advanced 1 percent to close at 7,330.70. \\n\"Seeing Caterpillar and Harley-Davidson trade higher tells me that traders think this will end diplomatically,\" said Quincy Krosby, chief market strategist at Prudential Financial. She also noted that the President Donald Trump\\'s comments on NAFTA showed \"flexibility\" on his part. \\nTrump appeared to be opening the door for negotiations on tariffs. In a series of tweets Monday morning, Trump said: \"Tariffs on Steel and Aluminum will only come off if new & fair NAFTA agreement is signed,\" adding that \"Mexico must do much more on stopping drugs from pouring into the U.S. They have not done what needs to be done.\" Tweet \\nAlso, House Speaker Paul Ryan said he was \"extremely worried\" about Trump\\'s trade plan. Congressional leaders will not rule out potential action if Trump decides to move forward with his tariff plan. \\nTrump announced last week the U.S. will implement a 25 percent tariff on steel imports and a 10 percent tariff on aluminum imports. The news sparked fears of a potential global trade war as world leaders condemned the announcement. In response to the U.S. tariffs, the European Union proposed tariffs on Harley-Davidson bikes and other U.S. products. \\n\"We\\'re in an uncertainty zone with investors asking: \\'What\\'s going on?\\' with regards to protectionism and trade,\" said Mike Bailey, director of research at FBB Capital Partners. \"The first instinct seems to be risk-off as people buy into the bond proxies like utilities.\" \\nEquities fell following Trump\\'s announcement, with the Dow closing 420 points lower on Thursday. The S&P 500 and Nasdaq also closed lower that day. Brendan McDermid | Reuters Traders work on the floor of the New York Stock Exchange, (NYSE) in New York. \\n\"The bears could make a comeback if President Donald Trump turns into an outright protectionist,\" Ed Yardeni, president and chief investment strategist at Yardeni Research, said in a note Monday. \"More likely is that he will back off if the market continues to react badly to his protectionist pronouncements.\" \\nInvestors also looked to Mexico City as U.S., Mexico and Canada officials gathered for the last day of this round of negotiations. Both Canada and Mexico are threatening to retaliate if the U.S. moves forward with its steel and aluminum tariffs. \\n\"If tariffs are announced but keep NAFTA partners in scope, this would break with recent precedent, given that the steel tariffs under President Bush did not apply to Canada and Mexico,\" said Michael Zezas, managing director at Morgan Stanley, said in a note. \"Markets may have to reflect some increase in the probability that NAFTA talks fail.\" \\nIn corporate news, French insurer AXA is buying XL Group for $15.3 billion, or $57.60 a share, in a deal that would create a property and casualty insurance giant. XL shares rose 29 percent on the back of the news. Alexandra Gibbs Make It Reporter & Assistant Related Securities'}, hash='322186d731ccd73f3764a8643e18eb83355eaa572d4b0ef8fe70949d6c35a0b6')}, text='The title of the news article is US stocks set for a negative open as trade war fears rumble on. The locations relavant to the article are: u.s., us, eu, u.s. This article was published on 2018-03-05 Article: Dow closes 336 points higher as trade-war worries ease Caterpillar was the biggest contributor of gains to the Dow, rising 3.2 percent. \"Seeing Caterpillar and Harley-Davidson trade higher tells me that traders think this will end diplomatically,\" says one strategist. Trump appeared to be opening the door for negotiations on tariffs on Monday. 2 Hours Ago | 03:25 \\nStocks rose on Monday, erasing earlier losses, as worries about a potential trade war waned. \\nThe Dow Jones industrial average closed 336.70 points higher at 24,874.76 after dropping as much as 150 points. Caterpillar was the biggest contributor of gains to the Dow, rising 3.2 percent. \\nThe S&P 500 rose 1.1 percent to 2,720.94 after briefly trading lower, with utilities as the best-performing sector. Harley-Davidson, a closely watched stock amid the tariff news, rose 2.4 percent. The Nasdaq composite advanced 1 percent to close at 7,330.70. \\n\"Seeing Caterpillar and Harley-Davidson trade higher tells me that traders think this will end diplomatically,\" said Quincy Krosby, chief market strategist at Prudential Financial. She also noted that the President Donald Trump\\'s comments on NAFTA showed \"flexibility\" on his part. \\nTrump appeared to be opening the door for negotiations on tariffs. In a series of tweets Monday morning, Trump said: \"Tariffs on Steel and Aluminum will only come off if new & fair NAFTA agreement is signed,\" adding that \"Mexico must do much more on stopping drugs from pouring into the U.S. They have not done what needs to be done.\" Tweet \\nAlso, House Speaker Paul Ryan said he was \"extremely worried\" about Trump\\'s trade plan. Congressional leaders will not rule out potential action if Trump decides to move forward with his tariff plan. \\nTrump announced last week the U.S. will implement a 25 percent tariff on steel imports and a 10 percent tariff on aluminum imports. The news sparked fears of a potential global trade war as world leaders condemned the announcement. In response to the U.S. tariffs, the European Union proposed tariffs on Harley-Davidson bikes and other U.S. products. \\n\"We\\'re in an uncertainty zone with investors asking: \\'What\\'s going on?\\' with regards to protectionism and trade,\" said Mike Bailey, director of research at FBB Capital Partners. \"The first instinct seems to be risk-off as people buy into the bond proxies like utilities.\" \\nEquities fell following Trump\\'s announcement, with the Dow closing 420 points lower on Thursday. The S&P 500 and Nasdaq also closed lower that day. Brendan McDermid | Reuters Traders work on the floor of the New York Stock Exchange, (NYSE) in New York. \\n\"The bears could make a comeback if President Donald Trump turns into an outright protectionist,\" Ed Yardeni, president and chief investment strategist at Yardeni Research, said in a note Monday. \"More likely is that he will back off if the market continues to react badly to his protectionist pronouncements.\" \\nInvestors also looked to Mexico City as U.S., Mexico and Canada officials gathered for the last day of this round of negotiations. Both Canada and Mexico are threatening to retaliate if the U.S. moves forward with its steel and aluminum tariffs. \\n\"If tariffs are announced but keep NAFTA partners in scope, this would break with recent precedent, given that the steel tariffs under President Bush did not apply to Canada and Mexico,\" said Michael Zezas, managing director at Morgan Stanley, said in a note. \"Markets may have to reflect some increase in the probability that NAFTA talks fail.\" \\nIn corporate news, French insurer AXA is buying XL Group for $15.3 billion, or $57.60 a share, in a deal that would create a property and casualty insurance giant. XL shares rose 29 percent on the back of the news. Alexandra Gibbs Make It Reporter & Assistant Related Securities', mimetype='text/plain', start_char_idx=0, end_char_idx=4013, text_template='{metadata_str}\\n\\n{content}', metadata_template='{key}: {value}', metadata_seperator='\\n'), score=0.5982444)], metadata={'a90d5187-5387-444c-9804-e8453df00e1f': {'title': 'Markets: trade nerves worsen as Trump advisor quits', 'location': '', 'published': '2018-03-07', 'article': 'Markets: trade nerves worsen as Trump advisor quits 12:27pm EST - 01:41 \\nGlobal stocks and the dollar slumped on Wednesday after a strong White House advocate for free trade resigned, fanning fears that President Donald Trump will proceed with protectionist tariffs and risk a trade war. David Pollard reports.   \\nGlobal stocks and the dollar slumped on Wednesday after a strong White House advocate for free trade resigned, fanning fears that President Donald Trump will proceed with protectionist tariffs and risk a trade war. David Pollard reports.  //reut.rs/2oWwk9C'}, '762a423a-d3fc-467a-9769-f87987ff1e68': {'title': 'Stock market pre-markets data: Dow futures after stocks volatility', 'location': 'new york, u.s.', 'published': '2018-02-12', 'article': 'U.S. stock index futures pointed to a solid open on Monday, but worries about a return to inflation and a week of wild swings in the market kept investors on edge.\\nAs of 5 a.m. ET, the implied open for the Dow Jones industrial average was about 300 points to the upside. S&P 500 and Nasdaq futures were also set for strong gains at the open.\\nThe moves came after U.S. indexes rebounded on Friday, although the Dow still had its worst week in two years. The Dow Jones industrial average popped more than 300 points, recovering from deep early losses in what still amounted to the worst week in two years.\\nThe Dow ended the day up 330.44 points, or 1.38 percent, closing at 24,190.90. The S&P 500 rallied 1.49 percent to finish at 2,619.55, while the Nasdaq composite added 1.44 percent to close at 6,874.49.\\nStill, both the Dow and S&P 500 declined 5.2 percent on the week on investor concerns over rising interest rates.\\n\"While we cannot rule out further weakness (clearly it has gone deeper than we anticipated), we think the magnitude of the correction has largely run its course with the SPX testing its rising 200-day moving average and many metrics showing short-term washout conditions,\" Jonathan Krinsky, chief market technician at MKM Partners, said in a Sunday note.\\n\"The bigger question becomes will we see the \\'v-shaped\\' recovery that has become so common over recent years, or will it be more of a process like we saw following 2010\\'s \\'Flash Crash,\\'\" Krinsky added.\\nLarry McDonald, head of U.S. macro strategies at ACG Analytics and editor of The Bear Traps Report , said this was a \"trade-able bounce,\" but noted that a \"true regime change is here.\\nIn an email, McDonald said \"the FOMC will have significant challenges providing the same accommodative policy and pulling the same liquidity levers in the new political landscape\" following the passage of a major spending bill signed into law by President Donald Trump last Friday.\\n— CNBC\\'s Fred Imbert contributed to this report.'}, '9a198b9b-f456-4d3f-ab2b-68596f25f6c2': {'title': 'US stocks set for a negative open as trade war fears rumble on', 'location': 'u.s., us, eu, u.s', 'published': '2018-03-05', 'article': 'Dow closes 336 points higher as trade-war worries ease Caterpillar was the biggest contributor of gains to the Dow, rising 3.2 percent. \"Seeing Caterpillar and Harley-Davidson trade higher tells me that traders think this will end diplomatically,\" says one strategist. Trump appeared to be opening the door for negotiations on tariffs on Monday. 2 Hours Ago | 03:25 \\nStocks rose on Monday, erasing earlier losses, as worries about a potential trade war waned. \\nThe Dow Jones industrial average closed 336.70 points higher at 24,874.76 after dropping as much as 150 points. Caterpillar was the biggest contributor of gains to the Dow, rising 3.2 percent. \\nThe S&P 500 rose 1.1 percent to 2,720.94 after briefly trading lower, with utilities as the best-performing sector. Harley-Davidson, a closely watched stock amid the tariff news, rose 2.4 percent. The Nasdaq composite advanced 1 percent to close at 7,330.70. \\n\"Seeing Caterpillar and Harley-Davidson trade higher tells me that traders think this will end diplomatically,\" said Quincy Krosby, chief market strategist at Prudential Financial. She also noted that the President Donald Trump\\'s comments on NAFTA showed \"flexibility\" on his part. \\nTrump appeared to be opening the door for negotiations on tariffs. In a series of tweets Monday morning, Trump said: \"Tariffs on Steel and Aluminum will only come off if new & fair NAFTA agreement is signed,\" adding that \"Mexico must do much more on stopping drugs from pouring into the U.S. They have not done what needs to be done.\" Tweet \\nAlso, House Speaker Paul Ryan said he was \"extremely worried\" about Trump\\'s trade plan. Congressional leaders will not rule out potential action if Trump decides to move forward with his tariff plan. \\nTrump announced last week the U.S. will implement a 25 percent tariff on steel imports and a 10 percent tariff on aluminum imports. The news sparked fears of a potential global trade war as world leaders condemned the announcement. In response to the U.S. tariffs, the European Union proposed tariffs on Harley-Davidson bikes and other U.S. products. \\n\"We\\'re in an uncertainty zone with investors asking: \\'What\\'s going on?\\' with regards to protectionism and trade,\" said Mike Bailey, director of research at FBB Capital Partners. \"The first instinct seems to be risk-off as people buy into the bond proxies like utilities.\" \\nEquities fell following Trump\\'s announcement, with the Dow closing 420 points lower on Thursday. The S&P 500 and Nasdaq also closed lower that day. Brendan McDermid | Reuters Traders work on the floor of the New York Stock Exchange, (NYSE) in New York. \\n\"The bears could make a comeback if President Donald Trump turns into an outright protectionist,\" Ed Yardeni, president and chief investment strategist at Yardeni Research, said in a note Monday. \"More likely is that he will back off if the market continues to react badly to his protectionist pronouncements.\" \\nInvestors also looked to Mexico City as U.S., Mexico and Canada officials gathered for the last day of this round of negotiations. Both Canada and Mexico are threatening to retaliate if the U.S. moves forward with its steel and aluminum tariffs. \\n\"If tariffs are announced but keep NAFTA partners in scope, this would break with recent precedent, given that the steel tariffs under President Bush did not apply to Canada and Mexico,\" said Michael Zezas, managing director at Morgan Stanley, said in a note. \"Markets may have to reflect some increase in the probability that NAFTA talks fail.\" \\nIn corporate news, French insurer AXA is buying XL Group for $15.3 billion, or $57.60 a share, in a deal that would create a property and casualty insurance giant. XL shares rose 29 percent on the back of the news. Alexandra Gibbs Make It Reporter & Assistant Related Securities'}}),\n",
       " 'extra_info': 'is_LLM'}"
      ]
     },
     "execution_count": 26,
     "metadata": {},
     "output_type": "execute_result"
    }
   ],
   "source": [
    "finance_qa.llm_request(messages)"
   ]
  },
  {
   "cell_type": "code",
   "execution_count": null,
   "id": "6a93ced8-01d7-4479-b634-a93ef9a08bb9",
   "metadata": {},
   "outputs": [],
   "source": []
  },
  {
   "cell_type": "code",
   "execution_count": 50,
   "id": "ddb0aabb-9f30-4eb7-bb66-a8a5393fc962",
   "metadata": {},
   "outputs": [],
   "source": [
    "# Finetuning LoRA"
   ]
  },
  {
   "cell_type": "code",
   "execution_count": 6,
   "id": "58cc97ad-b92d-4b0c-8f0d-7a0713ab7fb8",
   "metadata": {},
   "outputs": [],
   "source": [
    "dataset = load_dataset(\"ibm/finqa\")"
   ]
  },
  {
   "cell_type": "code",
   "execution_count": 55,
   "id": "06f4c589-33a4-49be-92cc-d516cad8729d",
   "metadata": {},
   "outputs": [
    {
     "data": {
      "text/plain": [
       "DatasetDict({\n",
       "    train: Dataset({\n",
       "        features: ['id', 'pre_text', 'post_text', 'table', 'question', 'answer', 'final_result', 'program_re', 'gold_inds'],\n",
       "        num_rows: 6251\n",
       "    })\n",
       "    validation: Dataset({\n",
       "        features: ['id', 'pre_text', 'post_text', 'table', 'question', 'answer', 'final_result', 'program_re', 'gold_inds'],\n",
       "        num_rows: 883\n",
       "    })\n",
       "    test: Dataset({\n",
       "        features: ['id', 'pre_text', 'post_text', 'table', 'question', 'answer', 'final_result', 'program_re', 'gold_inds'],\n",
       "        num_rows: 1147\n",
       "    })\n",
       "})"
      ]
     },
     "execution_count": 55,
     "metadata": {},
     "output_type": "execute_result"
    }
   ],
   "source": [
    "dataset"
   ]
  },
  {
   "cell_type": "code",
   "execution_count": 7,
   "id": "cbfc8f43-fbe6-4bb9-953f-60570b3d4f9a",
   "metadata": {},
   "outputs": [],
   "source": [
    "def create_context(example):\n",
    "    # Combine pre_text, table, and post_text into a single string\n",
    "    pre_text = example.get(\"pre_text\", \"\")\n",
    "    table = example.get(\"table\", [])\n",
    "    post_text = example.get(\"post_text\", \"\")\n",
    "    # print(table)\n",
    "\n",
    "    # print(table)\n",
    "    df = pd.DataFrame(table)\n",
    "    df.columns = df.iloc[0]\n",
    "    df = df.iloc[1:]\n",
    "    df = df.set_index(df.columns[0])\n",
    "    # display(df)\n",
    "    df = df[~df.index.duplicated(keep='first')]\n",
    "    table_str = df.to_dict('index')\n",
    "    # \n",
    "    # table1 = df.iloc[1:].to_dict('records')\n",
    "\n",
    "    # print(table1)\n",
    "    # table_str = \"\\n\".join(\n",
    "    #     [\", \".join([f\"{key}: {value}\" for key, value in row.items()]) for row in table1]\n",
    "    # )\n",
    "    # print(table_str)\n",
    "\n",
    "\n",
    "    # Convert table into a readable format (e.g., rows of data)\n",
    "    # table_str = \"\\n\".join(\n",
    "    #     [\", \".join([f\"{key}: {value}\" for key, value in row.items()]) for row in table]\n",
    "    # )\n",
    "    \n",
    "    # Combine everything into a readable format\n",
    "    # print(table_str)\n",
    "    context = f\"Pre-text: {pre_text}\\nTable:\\n{table_str}\\nPost-text: {post_text}\"\n",
    "    return context\n",
    "\n",
    "def preprocess_function(example):\n",
    "    # Create context from the available fields\n",
    "    context = create_context(example)\n",
    "    \n",
    "    # Combine the context and the question\n",
    "    input_text = f\"{context}\\nQuestion: {example['question']}\\nAnswer:\"\n",
    "    \n",
    "    # The answer is the target output\n",
    "    output_text = example[\"answer\"]\n",
    "    \n",
    "    return {\"input\": input_text, \"output\": output_text}\n",
    "\n"
   ]
  },
  {
   "cell_type": "code",
   "execution_count": 8,
   "id": "4a5a5939-6a82-4d3f-b7f2-1e0f27b8b14b",
   "metadata": {
    "scrolled": true
   },
   "outputs": [],
   "source": [
    "processed_dataset = dataset.map(preprocess_function, remove_columns=dataset[\"train\"].column_names)"
   ]
  },
  {
   "cell_type": "code",
   "execution_count": 46,
   "id": "b6554ec0-696e-4241-8d98-2032b2467059",
   "metadata": {},
   "outputs": [
    {
     "data": {
      "application/vnd.jupyter.widget-view+json": {
       "model_id": "1cfff4d3aaec42a3b2916234b7831e56",
       "version_major": 2,
       "version_minor": 0
      },
      "text/plain": [
       "Map:   0%|          | 0/883 [00:00<?, ? examples/s]"
      ]
     },
     "metadata": {},
     "output_type": "display_data"
    }
   ],
   "source": [
    "from transformers import AutoTokenizer\n",
    "\n",
    "\n",
    "def tokenize_function(example):\n",
    "    # Tokenize input and output\n",
    "    inputs = tokenizer(\n",
    "        example[\"input\"], truncation=True, padding=\"max_length\", max_length=512\n",
    "    )\n",
    "    outputs = tokenizer(\n",
    "        example[\"output\"], truncation=True, padding=\"max_length\", max_length=512\n",
    "    )\n",
    "    \n",
    "    # Add labels for training\n",
    "    inputs[\"labels\"] = outputs[\"input_ids\"]\n",
    "    # inputs[\"labels\"] = [\n",
    "    #     label if label != tokenizer.pad_token_id else -100 for label in inputs[\"labels\"]\n",
    "    # ]\n",
    "    inputs[\"labels\"] = [\n",
    "        label if label != tokenizer.pad_token_id else -100 for label in outputs[\"input_ids\"]\n",
    "    ]\n",
    "\n",
    "    return inputs\n",
    "    \n",
    "model_name = \"TinyLlama/TinyLlama-1.1B-Chat-v0.6\"  # Replace with a model suited for the task\n",
    "tokenizer = AutoTokenizer.from_pretrained(model_name)\n",
    "tokenizer.add_special_tokens({'pad_token': '[PAD]'})\n",
    "def tokenize_function(example):\n",
    "    inputs = tokenizer(example[\"input\"], truncation=True, padding=\"max_length\", max_length=512)\n",
    "    outputs = tokenizer(example[\"output\"], truncation=True, padding=\"max_length\", max_length=512)\n",
    "    inputs[\"labels\"] = outputs[\"input_ids\"]\n",
    "    return inputs\n",
    "\n",
    "tokenized_dataset = processed_dataset.map(tokenize_function, batched=True)"
   ]
  },
  {
   "cell_type": "code",
   "execution_count": 52,
   "id": "874d6972-6168-42ee-a921-c5d93992e22f",
   "metadata": {},
   "outputs": [
    {
     "data": {
      "application/vnd.jupyter.widget-view+json": {
       "model_id": "ab616b6cf265417c813f790651a44242",
       "version_major": 2,
       "version_minor": 0
      },
      "text/plain": [
       "Map:   0%|          | 0/6251 [00:00<?, ? examples/s]"
      ]
     },
     "metadata": {},
     "output_type": "display_data"
    },
    {
     "data": {
      "application/vnd.jupyter.widget-view+json": {
       "model_id": "40cbc14af94a4801845f59787a6975b2",
       "version_major": 2,
       "version_minor": 0
      },
      "text/plain": [
       "Map:   0%|          | 0/883 [00:00<?, ? examples/s]"
      ]
     },
     "metadata": {},
     "output_type": "display_data"
    },
    {
     "data": {
      "application/vnd.jupyter.widget-view+json": {
       "model_id": "220f089bede94be6b7f6f20f79c1b480",
       "version_major": 2,
       "version_minor": 0
      },
      "text/plain": [
       "Map:   0%|          | 0/1147 [00:00<?, ? examples/s]"
      ]
     },
     "metadata": {},
     "output_type": "display_data"
    }
   ],
   "source": [
    "from transformers import AutoTokenizer, AutoModelForSeq2SeqLM\n",
    "\n",
    "# Ensure consistent tokenizer and model\n",
    "tokenizer = AutoTokenizer.from_pretrained(\"TinyLlama/TinyLlama-1.1B-Chat-v0.6\")\n",
    "\n",
    "# Set padding token and resize model embedding if necessary\n",
    "tokenizer.pad_token = tokenizer.eos_token\n",
    "\n",
    "\n",
    "# Preprocess data\n",
    "def preprocess_function(example):\n",
    "    inputs = tokenizer(\n",
    "        example[\"input\"], truncation=True, padding=\"max_length\", max_length=512\n",
    "    )\n",
    "    outputs = tokenizer(\n",
    "        example[\"output\"], truncation=True, padding=\"max_length\", max_length=512\n",
    "    )\n",
    "    inputs[\"labels\"] = [\n",
    "        label if label != tokenizer.pad_token_id else -100 for label in outputs[\"input_ids\"]\n",
    "    ]\n",
    "    return inputs\n",
    "\n",
    "tokenized_dataset = processed_dataset.map(tokenize_function, batched=True)"
   ]
  },
  {
   "cell_type": "code",
   "execution_count": 143,
   "id": "57790e08-2e4d-4890-beed-4a70e1be7f0f",
   "metadata": {},
   "outputs": [],
   "source": [
    "LoraConfig.target_modules=None"
   ]
  },
  {
   "cell_type": "code",
   "execution_count": 47,
   "id": "90ca7aeb-2360-406e-81cd-e4e3be7f93ac",
   "metadata": {},
   "outputs": [],
   "source": [
    "from transformers import DataCollatorForSeq2Seq\n",
    "\n",
    "data_collator = DataCollatorForSeq2Seq(\n",
    "    tokenizer=tokenizer,\n",
    "    model=model,  # Your model, e.g., GPT or similar\n",
    "    padding=True,\n",
    "    max_length=512,\n",
    ")"
   ]
  },
  {
   "cell_type": "code",
   "execution_count": 53,
   "id": "fbcd3ec8-3f4d-4595-a8df-8c10698383f1",
   "metadata": {},
   "outputs": [
    {
     "name": "stdout",
     "output_type": "stream",
     "text": [
      "trainable params: 1,126,400 || all params: 1,101,174,784 || trainable%: 0.1023\n"
     ]
    }
   ],
   "source": [
    "from transformers import AutoModelForCausalLM\n",
    "from peft import LoraConfig, get_peft_model\n",
    "\n",
    "# Load the base model\n",
    "base_model = AutoModelForCausalLM.from_pretrained(\"TinyLlama/TinyLlama-1.1B-Chat-v0.6\")  # Replace with your model\n",
    "base_model.config.pad_token_id = tokenizer.pad_token_id\n",
    "base_model.resize_token_embeddings(len(tokenizer))\n",
    "# Define LoRA configuration\n",
    "lora_config = LoraConfig(\n",
    "    r=8,  # Low-rank adaptation dimension\n",
    "    lora_alpha=16,  # Scaling factor',\n",
    "    target_modules=[\"q_proj\", \"v_proj\"],  # Layers to fine-tune\n",
    "    lora_dropout=0.1,  # Dropout for LoRA\n",
    "    bias=\"none\"  # No bias fine-tuning\n",
    ")\n",
    "\n",
    "# Wrap the model with LoRA\n",
    "model = get_peft_model(base_model, lora_config)\n",
    "\n",
    "# Print trainable parameters for verification\n",
    "model.print_trainable_parameters()\n"
   ]
  },
  {
   "cell_type": "code",
   "execution_count": 54,
   "id": "c8ec3b00-8ee5-456e-923e-81c78502f520",
   "metadata": {},
   "outputs": [],
   "source": [
    "from transformers import TrainingArguments\n",
    "\n",
    "training_args = TrainingArguments(\n",
    "    output_dir=\"./finetuned_model\",\n",
    "    evaluation_strategy=\"steps\",\n",
    "    learning_rate=2e-5,\n",
    "    per_device_train_batch_size=1,\n",
    "    num_train_epochs=3,\n",
    "    weight_decay=0.01,\n",
    "    logging_dir=\"./logs\",\n",
    "    save_total_limit=2,\n",
    "    save_steps=500,\n",
    "    fp16=False,  # Use mixed precision for faster training\n",
    "    use_cpu=True\n",
    ")\n"
   ]
  },
  {
   "cell_type": "code",
   "execution_count": null,
   "id": "5abc5e3b-97ec-4122-b237-2b1382a77c57",
   "metadata": {},
   "outputs": [],
   "source": [
    "from transformers import Trainer\n",
    "\n",
    "trainer = Trainer(\n",
    "    model=model,\n",
    "    args=training_args,\n",
    "    train_dataset=tokenized_dataset[\"train\"],\n",
    "    eval_dataset=tokenized_dataset[\"validation\"],\n",
    "    tokenizer=tokenizer\n",
    ")\n",
    "\n",
    "trainer.train()\n"
   ]
  }
 ],
 "metadata": {
  "kernelspec": {
   "display_name": "Python 3 (ipykernel)",
   "language": "python",
   "name": "python3"
  },
  "language_info": {
   "codemirror_mode": {
    "name": "ipython",
    "version": 3
   },
   "file_extension": ".py",
   "mimetype": "text/x-python",
   "name": "python",
   "nbconvert_exporter": "python",
   "pygments_lexer": "ipython3",
   "version": "3.10.15"
  }
 },
 "nbformat": 4,
 "nbformat_minor": 5
}
